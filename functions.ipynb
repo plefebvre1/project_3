{
 "cells": [
  {
   "cell_type": "code",
   "execution_count": 1,
   "id": "558f197d-d09d-444f-a76b-9029724b81aa",
   "metadata": {},
   "outputs": [],
   "source": [
    "import pandas as pd\n",
    "import numpy as np\n",
    "from pathlib import Path"
   ]
  },
  {
   "cell_type": "code",
   "execution_count": 2,
   "id": "a409a0d6-1651-4ef8-ad14-f75b83fa5bfa",
   "metadata": {},
   "outputs": [],
   "source": [
    "rf = 0.007\n",
    "path1 = 'chart.csv'\n",
    "path2 = 'SPY.csv'"
   ]
  },
  {
   "cell_type": "code",
   "execution_count": 3,
   "id": "2f1ee84c-dd77-4c4e-a23f-798a36b7ca87",
   "metadata": {},
   "outputs": [],
   "source": [
    "def format_ameritrade_export(file_path):\n",
    "    account = pd.read_csv(\n",
    "        Path(file_path)\n",
    "    )\n",
    "    \n",
    "    account.rename(columns = {\"Account value\": \"value\"}, inplace=True)\n",
    "    account.dropna(inplace=True)\n",
    "    account[\"Date\"] = pd.to_datetime(account[\"Date\"], format = '%m/%d/%Y')\n",
    "    account.set_index(\"Date\", inplace = True)\n",
    "    #account[\"value\"] = account[\"value\"].str.replace(',', '')\n",
    "    account[\"value\"] = account[\"value\"].astype(float, errors = 'raise')\n",
    "    account.dropna(inplace=True)\n",
    "    \n",
    "    return account"
   ]
  },
  {
   "cell_type": "code",
   "execution_count": 4,
   "id": "497765f9-51b9-4c7e-b38e-bca89a2a4985",
   "metadata": {},
   "outputs": [],
   "source": [
    "def format_yfinance_export(file_path):\n",
    "    spy_data = pd.read_csv(\n",
    "        Path(file_path),\n",
    "        index_col = 'Date',\n",
    "        parse_dates = True,\n",
    "        infer_datetime_format = True\n",
    "    )\n",
    "    \n",
    "    spy_data.drop([\"Open\", \"High\", \"Low\", \"Adj Close\", \"Volume\"], axis=1, inplace=True)\n",
    "    spy_data.dropna(inplace=True)\n",
    "    \n",
    "    return spy_data\n",
    "    "
   ]
  },
  {
   "cell_type": "code",
   "execution_count": 5,
   "id": "c353e483-5cc4-45f8-8fa2-ac8139bb560b",
   "metadata": {},
   "outputs": [],
   "source": [
    "def get_statistics(portfolio_data, spy_data, rf):\n",
    "    statistics = [\"daily_returns\", \"cumulative_returns\", \"average_annualized_returns\", \"volatility\", \"variance\", \"covariance\", \"annualized_sharpe_ratio\"] \n",
    "    portfolio_statistics = [] \n",
    "    market_statistics = []\n",
    "    rows = [\"portfolio\", \"market\"]\n",
    "    \n",
    "    daily_returns = portfolio_data[\"value\"].pct_change()\n",
    "    spy_daily_returns = spy_data[\"Close\"].pct_change()\n",
    "    portfolio_statistics.append(daily_returns)\n",
    "    market_statistics.append(spy_daily_returns)\n",
    "    \n",
    "    cum_returns = (1+daily_returns).cumprod()\n",
    "    spy_cum_returns = (1+spy_daily_returns).cumprod()\n",
    "    portfolio_statistics.append(cum_returns)\n",
    "    market_statistics.append(spy_cum_returns)\n",
    "    \n",
    "    average_annualized_returns = daily_returns.mean() * 252\n",
    "    average_annualized_market_returns = spy_daily_returns.mean() * 252\n",
    "    portfolio_statistics.append(average_annualized_returns)\n",
    "    market_statistics.append(average_annualized_market_returns)\n",
    "    \n",
    "    volatility = portfolio_data[\"value\"].std()\n",
    "    market_volatility = spy_daily_returns.std()\n",
    "    portfolio_statistics.append(volatility)\n",
    "    market_statistics.append(market_volatility)\n",
    "    \n",
    "    variance = daily_returns.var()\n",
    "    market_variance = spy_daily_returns.var()\n",
    "    portfolio_statistics.append(variance)\n",
    "    market_statistics.append(market_variance)\n",
    "    \n",
    "    covariance = daily_returns.cov(spy_daily_returns)\n",
    "    portfolio_statistics.append(covariance)\n",
    "    market_statistics.append(covariance)\n",
    "    \n",
    "    annualized_volatility = volatility * np.sqrt(252)\n",
    "    annualized_market_volatility = market_volatility * np.sqrt(252)\n",
    "    sharpe_ratio = average_annualized_returns - rf / annualized_volatility\n",
    "    market_sharpe_ratio = average_annualized_market_returns - rf / annualized_market_volatility\n",
    "    portfolio_statistics.append(sharpe_ratio)\n",
    "    market_statistics.append(market_sharpe_ratio)\n",
    "    \n",
    "    main = [statistics, portfolio_statistics, market_statistics]\n",
    "    \n",
    "    return main"
   ]
  },
  {
   "cell_type": "code",
   "execution_count": 6,
   "id": "4e431b12-4c7b-4a76-9f06-122b4052de28",
   "metadata": {},
   "outputs": [],
   "source": [
    "portfolio = format_ameritrade_export(path1)\n",
    "market = format_yfinance_export(path2)\n",
    "go = get_statistics(portfolio, market, rf)"
   ]
  },
  {
   "cell_type": "code",
   "execution_count": 10,
   "id": "968d04a0-e39a-47a8-b714-e4ddd8493e7a",
   "metadata": {},
   "outputs": [
    {
     "data": {
      "text/plain": [
       "[['daily_returns',\n",
       "  'cumulative_returns',\n",
       "  'average_annualized_returns',\n",
       "  'volatility',\n",
       "  'variance',\n",
       "  'covariance',\n",
       "  'annualized_sharpe_ratio'],\n",
       " [Date\n",
       "  2020-04-16             NaN\n",
       "  2020-04-17    6.060606e-07\n",
       "  2020-04-20    6.060602e-07\n",
       "  2020-04-21    0.000000e+00\n",
       "  2020-04-22    6.060599e-07\n",
       "                    ...     \n",
       "  2022-05-18   -2.078547e-02\n",
       "  2022-05-19   -1.365933e-03\n",
       "  2022-05-20   -5.790059e-03\n",
       "  2022-05-23    3.173082e-02\n",
       "  2022-05-24   -7.591020e-03\n",
       "  Name: value, Length: 549, dtype: float64,\n",
       "  Date\n",
       "  2020-04-16         NaN\n",
       "  2020-04-17    1.000001\n",
       "  2020-04-20    1.000001\n",
       "  2020-04-21    1.000001\n",
       "  2020-04-22    1.000002\n",
       "                  ...   \n",
       "  2022-05-18    1.412288\n",
       "  2022-05-19    1.410359\n",
       "  2022-05-20    1.402193\n",
       "  2022-05-23    1.446685\n",
       "  2022-05-24    1.435704\n",
       "  Name: value, Length: 549, dtype: float64,\n",
       "  0.1775922201545729,\n",
       "  2162.339266389591,\n",
       "  8.878299099701469e-05,\n",
       "  5.276273657791847e-05,\n",
       "  0.17759201622794646],\n",
       " [Date\n",
       "  2020-04-20         NaN\n",
       "  2020-04-21   -0.030363\n",
       "  2020-04-22    0.022195\n",
       "  2020-04-23   -0.000072\n",
       "  2020-04-24    0.013939\n",
       "                  ...   \n",
       "  2022-05-18   -0.040312\n",
       "  2022-05-19   -0.006125\n",
       "  2022-05-20    0.000437\n",
       "  2022-05-23    0.018710\n",
       "  2022-05-24   -0.007634\n",
       "  Name: Close, Length: 530, dtype: float64,\n",
       "  Date\n",
       "  2020-04-20         NaN\n",
       "  2020-04-21    0.969637\n",
       "  2020-04-22    0.991157\n",
       "  2020-04-23    0.991086\n",
       "  2020-04-24    1.004901\n",
       "                  ...   \n",
       "  2022-05-18    1.391598\n",
       "  2022-05-19    1.383075\n",
       "  2022-05-20    1.383678\n",
       "  2022-05-23    1.409567\n",
       "  2022-05-24    1.398807\n",
       "  Name: Close, Length: 530, dtype: float64,\n",
       "  0.17608115746620542,\n",
       "  0.011305005862098165,\n",
       "  0.00012780315754207388,\n",
       "  5.276273657791847e-05,\n",
       "  0.13707555612260222]]"
      ]
     },
     "metadata": {},
     "output_type": "display_data"
    }
   ],
   "source": [
    "display(go)"
   ]
  },
  {
   "cell_type": "code",
   "execution_count": null,
   "id": "4ae96e61-4fe9-4c57-8773-1912f1132532",
   "metadata": {},
   "outputs": [],
   "source": []
  }
 ],
 "metadata": {
  "kernelspec": {
   "display_name": "Python 3 (ipykernel)",
   "language": "python",
   "name": "python3"
  },
  "language_info": {
   "codemirror_mode": {
    "name": "ipython",
    "version": 3
   },
   "file_extension": ".py",
   "mimetype": "text/x-python",
   "name": "python",
   "nbconvert_exporter": "python",
   "pygments_lexer": "ipython3",
   "version": "3.7.11"
  }
 },
 "nbformat": 4,
 "nbformat_minor": 5
}
